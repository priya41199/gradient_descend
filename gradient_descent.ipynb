{
 "cells": [
  {
   "cell_type": "code",
   "execution_count": 15,
   "id": "83440ac3",
   "metadata": {},
   "outputs": [],
   "source": [
    "import numpy as np\n",
    "import pandas as pd\n",
    "import math"
   ]
  },
  {
   "cell_type": "code",
   "execution_count": 3,
   "id": "0944f86a",
   "metadata": {},
   "outputs": [
    {
     "data": {
      "text/plain": [
       "(10,)"
      ]
     },
     "execution_count": 3,
     "metadata": {},
     "output_type": "execute_result"
    }
   ],
   "source": []
  },
  {
   "cell_type": "code",
   "execution_count": 4,
   "id": "dc34e948",
   "metadata": {},
   "outputs": [
    {
     "data": {
      "text/plain": [
       "(10,)"
      ]
     },
     "execution_count": 4,
     "metadata": {},
     "output_type": "execute_result"
    }
   ],
   "source": [
    "np.shape(x)"
   ]
  },
  {
   "cell_type": "code",
   "execution_count": null,
   "id": "03c818b8",
   "metadata": {},
   "outputs": [],
   "source": [
    "def gradient_descent(x,y):\n",
    "    m_curr=0;\n",
    "    b_curr=0;\n",
    "    n=len(x);\n",
    "    i=0;\n",
    "    cost_curr=cost_previous=0\n",
    "    learning_rate=0.01\n",
    "    for i in range(10000):\n",
    "        y_predicted = m_curr*i + b_curr;\n",
    "        cost_curr=(1/n)*sum([val**2 for val in (y-y_predicted)])\n",
    "        md= -(2/n) * sum(x*(y-y_predicted))\n",
    "        bd= -(2/n) * sum(y-y_predicted)\n",
    "        m_curr = m_curr - learning_rate * md\n",
    "        b_curr = b_curr - learning_rate * bd\n",
    "        if(math.isclose(cost_previous,cost_curr,rel_tol=1e-20)):\n",
    "            break\n",
    "        cost_previous=cost_curr;\n",
    "        print(i,cost_curr,m_curr,b_curr,cost_previous)\n",
    "    return i\n",
    "\n",
    "if __name__== \"__main__\":\n",
    "    df=pd.read_csv(\"test_scores.csv\")\n",
    "    x=df['math'].to_numpy()\n",
    "    y=df['cs'].to_numpy()\n",
    "    np.shape(x)\n",
    "    np.shape(y)\n",
    "    iteration=gradient_descent(x,y)\n"
   ]
  },
  {
   "cell_type": "code",
   "execution_count": null,
   "id": "134370b5",
   "metadata": {},
   "outputs": [],
   "source": []
  }
 ],
 "metadata": {
  "kernelspec": {
   "display_name": "Python 3 (ipykernel)",
   "language": "python",
   "name": "python3"
  },
  "language_info": {
   "codemirror_mode": {
    "name": "ipython",
    "version": 3
   },
   "file_extension": ".py",
   "mimetype": "text/x-python",
   "name": "python",
   "nbconvert_exporter": "python",
   "pygments_lexer": "ipython3",
   "version": "3.11.4"
  }
 },
 "nbformat": 4,
 "nbformat_minor": 5
}
